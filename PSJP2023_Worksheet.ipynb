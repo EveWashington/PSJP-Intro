{
  "nbformat": 4,
  "nbformat_minor": 0,
  "metadata": {
    "colab": {
      "provenance": []
    },
    "kernelspec": {
      "name": "python3",
      "display_name": "Python 3"
    },
    "language_info": {
      "name": "python"
    }
  },
  "cells": [
    {
      "cell_type": "markdown",
      "source": [
        "# PSJP's introduction to Python for Journalism\n",
        "\n",
        "\n",
        "Welcome! This workbook will walk you through a few key python elements, and have some data challenges to get your hands dirty in computational journalism.\n",
        "\n",
        "\n",
        "\n",
        "\n",
        "> **Step #1** is to make a copy of this notebook that you can edit and save. Go to `file` -> `Save a copy in Drive` and it will open a copy of this file in a new tab. This copy is private to you so make all the edits and notes you'd like.\n",
        "\n",
        "\n",
        "\n",
        "\n",
        "While you work through these exercises, you're going to be in a small group. These other people are here so you can talk through what you're doing, ask lots of questions, and problem solve together. The best examples of computational journalism are created collaboratively, and are better because of it. It doesn't matter how far you get in this file, so just enjoy the ride with your peers. I (Eve) will be hopping around to answer questions and guide you. When you get stuck, don't be afraid to google your problem or error, there's a huge online community of problem solvers for programming.\n",
        "\n",
        "\n",
        "There's 3 parts to this exercise, feel free to hop around and attack what is interesting to you and your team.\n",
        "\n",
        "\n",
        "1. Intro To Python\n",
        "2. Challenge #1: I Spy Pandas\n",
        "3. Challenge #2: Cluster? I hardly know her (feat. Machine Learning!)\n",
        "\n",
        "\n",
        "\n",
        "\n",
        "> If you already know python, feel free to skip ahead to challenge #1 or challenge #2\n",
        "\n",
        "\n",
        "> If this is your first time coding, know that this is HARD. Learning a programming language isn't easy and the goal here is just to expose you to some basics. Have fun with it!\n",
        "\n",
        "\n",
        "\n",
        "\n",
        "## About this document\n",
        "\n",
        "\n",
        "This file is a Jupyter Notebook and we will be working in Python, a powerful generalist programming language. There's many tools and languages out there for this type of work, this is just one. The way this notebook works is that there are some \"blocks'' for text and some for code.\n",
        "\n",
        "\n",
        "Text is written in something called Markdown. You can double click on this block to see what it looks like and if you're curious you can [learn how to use it here](https://www.markdowntutorial.com/)\n",
        "\n",
        "\n",
        "Code blocks contain Python expressions, which you can run and see in your browser immediately by pressing the play button on the left or pressing `Shift` + `Enter` with the block focused.\n",
        "\n",
        "\n",
        "### Enough talk, let's try running some code.\n"
      ],
      "metadata": {
        "id": "OQni8q5oTY6F"
      }
    },
    {
      "cell_type": "code",
      "source": [
        "35 + 125"
      ],
      "metadata": {
        "id": "5ifc0eYNYMrR"
      },
      "execution_count": null,
      "outputs": []
    },
    {
      "cell_type": "markdown",
      "source": [
        "Your first python expression! I'm so proud. At its core coding is just using a big fancy calculator. You can also save values to **variables**, which are named entities that hold data."
      ],
      "metadata": {
        "id": "1h-XMPYFYesl"
      }
    },
    {
      "cell_type": "code",
      "source": [
        "value = 35\n",
        "\n",
        "value + 125"
      ],
      "metadata": {
        "id": "czYuBYKKYeSj"
      },
      "execution_count": null,
      "outputs": []
    },
    {
      "cell_type": "markdown",
      "source": [
        "You can get an idea of what is inside a variable by using the `type()` **function**. A **function** is a set of steps that are defined to do something based on an input. This one tells you what type of data is inside a variable.\n"
      ],
      "metadata": {
        "id": "Zg24r0lxaYq0"
      }
    },
    {
      "cell_type": "code",
      "source": [
        "type(value)"
      ],
      "metadata": {
        "id": "UOOCBdpMaX_u"
      },
      "execution_count": null,
      "outputs": []
    },
    {
      "cell_type": "markdown",
      "source": [
        "`int` is short for **Integer**, which just means a whole number. There are a few other types of basic data in Python, like...\n",
        "\n",
        "\n",
        "\n",
        "\n",
        "* **floats** - short for \"floating point number\" which just means it has a decimal point\n",
        "* **strings** - any line of text, like `\"hello world\"`, `'PSJP!'` these are can be defined in python with single or double quotation marks\n",
        "* **booleans** - `True` or `False` values\n",
        "\n",
        "\n",
        "\n",
        "\n",
        "These basic types, create the foundation for all computation and can be organized in many different ways which we call **data structures**.\n",
        "\n",
        "\n",
        "Below are some examples of these data types in use. In your team run each one of them and see if you can understand what's happening. It's okay if something doesn't make sense, make a note of it in a text block and if there's time at the end we can talk about it\n"
      ],
      "metadata": {
        "id": "EVSXYlOCbQJf"
      }
    },
    {
      "cell_type": "code",
      "source": [
        "#this is a data structure called a list, its a type of data structure\n",
        "# you can access a specific value in the list with []\n",
        "\n",
        "arr = [1, 2, 3, 4, 5]\n",
        "arr[2]"
      ],
      "metadata": {
        "id": "-3uxLxODX7-U"
      },
      "execution_count": null,
      "outputs": []
    },
    {
      "cell_type": "code",
      "source": [
        "#this is a for loop, one of its uses is for moving through the elements of an array\n",
        "for number in arr:\n",
        "  print(3 == number)"
      ],
      "metadata": {
        "id": "WsiiLKOlhUec"
      },
      "execution_count": null,
      "outputs": []
    },
    {
      "cell_type": "code",
      "source": [
        "cats_are_cool = True\n",
        "dogs_are_cool = True\n",
        "fish_suck = False\n",
        "\n",
        "likes_animals = cats_are_cool & dogs_are_cool and not fish_suck #'and' can be written as 'and' or '&'\n",
        "likes_animals"
      ],
      "metadata": {
        "id": "yCa70ObMX72W"
      },
      "execution_count": null,
      "outputs": []
    },
    {
      "cell_type": "code",
      "source": [
        "fish_suck = True\n",
        "\n",
        "likes_animals = cats_are_cool & dogs_are_cool and not fish_suck\n",
        "likes_some_animals = cats_are_cool | dogs_are_cool or not fish_suck #'or' can be written as 'or' or '|'\n",
        "\n",
        "print(\"likes_animals?\", likes_animals)\n",
        "print(\"likes_some_animals?\", likes_some_animals)\n"
      ],
      "metadata": {
        "id": "5wVU79nmX7u4"
      },
      "execution_count": null,
      "outputs": []
    },
    {
      "cell_type": "code",
      "source": [
        "\"fish \" + \"rule\" + \"!!!!\""
      ],
      "metadata": {
        "id": "tQiXFrq8X7mp"
      },
      "execution_count": null,
      "outputs": []
    },
    {
      "cell_type": "code",
      "source": [
        "\"fish\" * 10"
      ],
      "metadata": {
        "id": "ntOxzCALagCt"
      },
      "execution_count": null,
      "outputs": []
    },
    {
      "cell_type": "markdown",
      "source": [
        "**Before moving on to the first challenge, feel free to play around here some more, define your own variables, test what happens when you change some of the values in the above expressions, and write new expressions. This stuff is the foundation for understanding anything you wanna build with Python (or any programming language), and the examples above just scratch the surface**"
      ],
      "metadata": {
        "id": "52LzX8Yiakyh"
      }
    },
    {
      "cell_type": "markdown",
      "source": [
        "# Challenge 1: I Spy Pandas\n",
        "One way to analyze data in Python is with a **library** called **Pandas**, a **library** is just a set of functions and objects from another developer that builds on the core python capabilities that we learned about earlier. Basically, this means less work for bigger outcomes.\n",
        "\n",
        "\n",
        "First we need to load the library and the data. This data is scraped from OpenStreets with some added address info I accessed through a MapBox API. It contains information on 44470 public bathrooms, most of which are in the USA with a few in the Caribbean, Canada, and Mexico.\n"
      ],
      "metadata": {
        "id": "Qp2UwXaaiq2v"
      }
    },
    {
      "cell_type": "code",
      "source": [
        "import pandas as pd\n",
        "df = pd.read_json('https://raw.githubusercontent.com/EveWashington/PSJP-Intro/main/bathroom.json') # this may take a sec\n",
        "type(df)"
      ],
      "metadata": {
        "id": "BtzBwrM8FDmE"
      },
      "execution_count": null,
      "outputs": []
    },
    {
      "cell_type": "markdown",
      "source": [
        "**Pandas** stores data in what's called **dataframes**, we can preview the data by calling a few functions:\n",
        "\n"
      ],
      "metadata": {
        "id": "yxED9bySGlmj"
      }
    },
    {
      "cell_type": "code",
      "source": [
        "df.info(verbose=True, show_counts=True)\n",
        "#this gives a high level look at the structures of the dataset"
      ],
      "metadata": {
        "id": "vNO2N5CUIZ2M"
      },
      "execution_count": null,
      "outputs": []
    },
    {
      "cell_type": "code",
      "source": [
        "df.head()\n",
        "#this shows the first 5 rows of a dataset by default\n",
        "#try adding a number between the () and rerunning this block"
      ],
      "metadata": {
        "id": "snLACDzsEdQM"
      },
      "execution_count": null,
      "outputs": []
    },
    {
      "cell_type": "code",
      "source": [
        "df.sample(10)\n",
        "#this shows a random sample of (X) number of rows, 1 by default\n",
        "#try rerunning a few times to see diffrent parts of the dataset"
      ],
      "metadata": {
        "id": "1uHIFYnsH-9B"
      },
      "execution_count": null,
      "outputs": []
    },
    {
      "cell_type": "code",
      "source": [
        "df.state\n",
        "#this refrences a series of all the states/provences in order that they appear in the data"
      ],
      "metadata": {
        "id": "5AfNTb5yO4L-"
      },
      "execution_count": null,
      "outputs": []
    },
    {
      "cell_type": "code",
      "source": [
        "#if you wanna look at just a few columns of the dataset, try this\n",
        "df[[\"id\", \"address\", \"note\"]]"
      ],
      "metadata": {
        "id": "Fz0CF4RENrGH"
      },
      "execution_count": null,
      "outputs": []
    },
    {
      "cell_type": "markdown",
      "source": [
        "You may notice that this data isn't perfect, not every toilet has a value for every column. This is very common in the real world, and is often caused when different people or organizations encode data differently. This problem is why the first step in a data analysis is often **data cleaning and validation**.\n",
        "\n",
        "\n",
        "This step helps us understand what information is available in the data, so we can brainstorm options for how to use it in a project. There are many ways to do this, but one of the easiest ways is to use string matching functions to search the dataset."
      ],
      "metadata": {
        "id": "DBMSW6G_Jw4h"
      }
    },
    {
      "cell_type": "code",
      "source": [
        "#this creates a series of boolean values depending on if the value at that row fulfills the test\n",
        "#in this case the test is if the `state` field contains the word \"New\"\n",
        "df.state.str.contains(\"New\", na=False)"
      ],
      "metadata": {
        "id": "ByYjfd43Jtb7"
      },
      "execution_count": null,
      "outputs": []
    },
    {
      "cell_type": "code",
      "source": [
        "df[df.state.str.contains(\"New\", na=False)] #we can then filter the df like this"
      ],
      "metadata": {
        "id": "3LH5Xom-QZMA"
      },
      "execution_count": null,
      "outputs": []
    },
    {
      "cell_type": "code",
      "source": [
        "#and we can combine filters with the binary operators that we saw earlier\n",
        "df[df.state.str.contains(\"New\", na=False) & df.state.str.contains(\"York\", na=False)]"
      ],
      "metadata": {
        "id": "huDw4og7Soer"
      },
      "execution_count": null,
      "outputs": []
    },
    {
      "cell_type": "code",
      "source": [
        "#or we can also write the above function like this instead\n",
        "df[df.state.str.match(\"New York\", na=False)]"
      ],
      "metadata": {
        "id": "keC0RoT9TWoA"
      },
      "execution_count": null,
      "outputs": []
    },
    {
      "cell_type": "code",
      "source": [
        "#you can also exclude data that matches the condition with a - (minus) sign\n",
        "df[-df.state.str.match(\"New York\", na=False)]"
      ],
      "metadata": {
        "id": "hS37IxevLYa6"
      },
      "execution_count": null,
      "outputs": []
    },
    {
      "cell_type": "code",
      "source": [
        "#or just check if a row has a value at all, with the function .isna()\n",
        "#this function returns true if the value is NaN (Stands for Not a Number)\n",
        "df[-df[\"gender_neutral\"].isna()]"
      ],
      "metadata": {
        "id": "2dROBMxxLjnV"
      },
      "execution_count": null,
      "outputs": []
    },
    {
      "cell_type": "markdown",
      "source": [
        "###Now that you've gotten a taste of filtering and navigating the dataset, time to play....\n",
        "\n",
        "## ... I Spy!\n",
        "Below are some challenges, see if you can write filters that help you find the same sets of bathrooms that I found.\n",
        "\n",
        "\n",
        "> **Hint:** Use `df.info(verbose=True, show_counts=True)` to see what possible column names you can explore\n",
        "\n",
        "\n",
        "> **Optional Challenge:** If your looking for a challenge, try using regular expressions to write the filters [here's some guidance](https://www.rexegg.com/regex-quickstart.html)"
      ],
      "metadata": {
        "id": "RGOpF7nzTWVB"
      }
    },
    {
      "cell_type": "markdown",
      "source": [
        "### I Spy.... 17 bathrooms that are in bad condition"
      ],
      "metadata": {
        "id": "gjwFUAVOWUhm"
      }
    },
    {
      "cell_type": "code",
      "source": [
        "#write your code here"
      ],
      "metadata": {
        "id": "RY1UEnl1WUhn"
      },
      "execution_count": null,
      "outputs": []
    },
    {
      "cell_type": "markdown",
      "source": [
        "### I Spy.... 3914 bathrooms that are disability or wheelchair accessible"
      ],
      "metadata": {
        "id": "XcVgKS2oV7aU"
      }
    },
    {
      "cell_type": "code",
      "source": [
        "#write your code here"
      ],
      "metadata": {
        "id": "3fvazLyhWQVs"
      },
      "execution_count": null,
      "outputs": []
    },
    {
      "cell_type": "markdown",
      "source": [
        "### I Spy.... 43 bathrooms at Burning Man"
      ],
      "metadata": {
        "id": "2Q48WfXDWUtr"
      }
    },
    {
      "cell_type": "code",
      "source": [
        "#write your code here"
      ],
      "metadata": {
        "id": "Y4b3B9y4WUtr"
      },
      "execution_count": null,
      "outputs": []
    },
    {
      "cell_type": "markdown",
      "source": [
        "### I Spy.... something you find interesting!\n",
        "Your turn, find some interesting collection of bathrooms in the dataset (or a few) and show them here, Don’t forget to share them with your group!"
      ],
      "metadata": {
        "id": "-CHDFItsWVBU"
      }
    },
    {
      "cell_type": "code",
      "source": [
        "#write your code here"
      ],
      "metadata": {
        "id": "Wngf_b_2WVBV"
      },
      "execution_count": null,
      "outputs": []
    },
    {
      "cell_type": "markdown",
      "source": [
        "# Challenge #2: Cluster? I hardly know her\n",
        "\n",
        "\n",
        "**K-mode clustering** is a machine-learning technique used to group a set of data objects into a specified number of **clusters** (or categories), based on their attributes. This method can be used to find interesting patterns and relationships in the data. By understanding how some bathrooms are related to each other we might find interesting outliers or similarities that we wouldn't have noticed otherwise.\n",
        "\n",
        "\n",
        "We're going to test this with our bathroom dataset, and the first step is installing and importing some packages.\n"
      ],
      "metadata": {
        "id": "CmtVUQUsW6jT"
      }
    },
    {
      "cell_type": "code",
      "source": [
        "import numpy as np\n",
        "import matplotlib.pyplot as plt\n",
        "\n",
        "%matplotlib inline"
      ],
      "metadata": {
        "id": "crSJxSf4YaA_"
      },
      "execution_count": null,
      "outputs": []
    },
    {
      "cell_type": "code",
      "source": [
        "!pip install kmodes\n",
        "from kmodes.kmodes import KModes"
      ],
      "metadata": {
        "colab": {
          "base_uri": "https://localhost:8080/"
        },
        "id": "5uffk4FrPPjf",
        "outputId": "b8b10166-6c8e-47fd-eb76-79d95d744aff"
      },
      "execution_count": null,
      "outputs": [
        {
          "output_type": "stream",
          "name": "stdout",
          "text": [
            "Requirement already satisfied: kmodes in /usr/local/lib/python3.10/dist-packages (0.12.2)\n",
            "Requirement already satisfied: numpy>=1.10.4 in /usr/local/lib/python3.10/dist-packages (from kmodes) (1.22.4)\n",
            "Requirement already satisfied: scikit-learn>=0.22.0 in /usr/local/lib/python3.10/dist-packages (from kmodes) (1.2.2)\n",
            "Requirement already satisfied: scipy>=0.13.3 in /usr/local/lib/python3.10/dist-packages (from kmodes) (1.10.1)\n",
            "Requirement already satisfied: joblib>=0.11 in /usr/local/lib/python3.10/dist-packages (from kmodes) (1.3.1)\n",
            "Requirement already satisfied: threadpoolctl>=2.0.0 in /usr/local/lib/python3.10/dist-packages (from scikit-learn>=0.22.0->kmodes) (3.1.0)\n"
          ]
        }
      ]
    },
    {
      "cell_type": "markdown",
      "source": [
        "Next, we need to clean our data. This can be done with some simple filtering like we did earlier. The data cannot have any NA values, so select a few columns that you think are interesting and have a good number of shared rows, and filter the data so it's just those rows\n",
        "\n",
        "\n",
        "> **Hint**: if your having trouble, try the `.dropna()` funcution, I used it like this `filtered = df[[\"changing_table\", \"state\", \"wheelchair\"]].dropna()` to create my dataframe\n",
        "\n",
        "\n",
        "\n",
        "\n"
      ],
      "metadata": {
        "id": "AL4AkrTEdyId"
      }
    },
    {
      "cell_type": "code",
      "source": [
        "filtered = \"CODE YOUR FILTERED DATA FRAME HERE\""
      ],
      "metadata": {
        "id": "6CrgIi4xQMTR"
      },
      "execution_count": null,
      "outputs": []
    },
    {
      "cell_type": "markdown",
      "source": [
        "Now, we're gonna slightly reformat that dataframe by converting it to a **Numpy array**. This is a special type of data structure that is often used in Machine Learning"
      ],
      "metadata": {
        "id": "7os7caxlowMK"
      }
    },
    {
      "cell_type": "code",
      "source": [
        "filtered.reset_index(drop=True, inplace=True) #so our indexes go 1, 2, 3...\n",
        "data = filtered.to_numpy()\n",
        "data"
      ],
      "metadata": {
        "id": "_ExO-s3woyfp"
      },
      "execution_count": null,
      "outputs": []
    },
    {
      "cell_type": "markdown",
      "source": [
        "Before we can cluster our data we need to learn what the ideal number of groups (clusters) for our dataset is. One way we do that is by creating an **elbow curve** in what's called the **elbow method**.\n",
        "\n",
        "\n",
        "The elbow method test different cluster sizes, in this case 1-9 and tracks a measure called **cluster variance**. As the number of clusters increase the **cluster variance** decreases at first rapidly, then more gradually. Once it becomes gradual or near constant, that is the ideal number of clusters for a dataset. When graphed this looks like a bent elbow and the point that is the elbow is what we will use when we cluster the data.\n",
        "\n",
        "\n",
        "Below we are going to run the elbow method and graph an elbow curve. See if you can identify the elbow point on the graph\n",
        "\n",
        "\n",
        "> **Hint:** the ideal number will also print out\n"
      ],
      "metadata": {
        "id": "X6cGKZpvpCnl"
      }
    },
    {
      "cell_type": "code",
      "source": [
        "# Elbow curve to find optimal K\n",
        "cost = []\n",
        "K = range(1,10)\n",
        "for k in list(K):\n",
        "    kmode = KModes(n_clusters=k, init = \"random\", n_init = 5, verbose=1)\n",
        "    kmode.fit_predict(data)\n",
        "    cost.append(kmode.cost_)\n",
        "\n",
        "plt.plot(K, cost, 'x-')\n",
        "plt.xlabel('No. of clusters')\n",
        "plt.ylabel('Cost')\n",
        "plt.title('Elbow Curve')\n",
        "plt.show()"
      ],
      "metadata": {
        "colab": {
          "base_uri": "https://localhost:8080/",
          "height": 1000
        },
        "id": "lz9wgB0lYa_8",
        "outputId": "58440cc6-2fb6-4936-bb51-8793900b250d"
      },
      "execution_count": null,
      "outputs": [
        {
          "output_type": "stream",
          "name": "stdout",
          "text": [
            "Init: initializing centroids\n",
            "Init: initializing clusters\n",
            "Starting iterations...\n",
            "Run 1, iteration: 1/100, moves: 0, cost: 2277.0\n",
            "Init: initializing centroids\n",
            "Init: initializing clusters\n",
            "Starting iterations...\n",
            "Run 2, iteration: 1/100, moves: 0, cost: 2277.0\n",
            "Init: initializing centroids\n",
            "Init: initializing clusters\n",
            "Starting iterations...\n",
            "Run 3, iteration: 1/100, moves: 0, cost: 2277.0\n",
            "Init: initializing centroids\n",
            "Init: initializing clusters\n",
            "Starting iterations...\n",
            "Run 4, iteration: 1/100, moves: 0, cost: 2277.0\n",
            "Init: initializing centroids\n",
            "Init: initializing clusters\n",
            "Starting iterations...\n",
            "Run 5, iteration: 1/100, moves: 0, cost: 2277.0\n",
            "Best run was number 1\n",
            "Init: initializing centroids\n",
            "Init: initializing clusters\n",
            "Starting iterations...\n",
            "Run 1, iteration: 1/100, moves: 50, cost: 1683.0\n",
            "Init: initializing centroids\n",
            "Init: initializing clusters\n",
            "Starting iterations...\n",
            "Run 2, iteration: 1/100, moves: 54, cost: 1697.0\n",
            "Run 2, iteration: 2/100, moves: 0, cost: 1697.0\n",
            "Init: initializing centroids\n",
            "Init: initializing clusters\n",
            "Starting iterations...\n",
            "Run 3, iteration: 1/100, moves: 0, cost: 2231.0\n",
            "Init: initializing centroids\n",
            "Init: initializing clusters\n",
            "Starting iterations...\n",
            "Run 4, iteration: 1/100, moves: 43, cost: 1683.0\n",
            "Init: initializing centroids\n",
            "Init: initializing clusters\n",
            "Starting iterations...\n",
            "Run 5, iteration: 1/100, moves: 103, cost: 2040.0\n",
            "Best run was number 1\n",
            "Init: initializing centroids\n",
            "Init: initializing clusters\n",
            "Starting iterations...\n",
            "Run 1, iteration: 1/100, moves: 317, cost: 1394.0\n",
            "Run 1, iteration: 2/100, moves: 249, cost: 1376.0\n",
            "Run 1, iteration: 3/100, moves: 19, cost: 1376.0\n",
            "Init: initializing centroids\n",
            "Init: initializing clusters\n",
            "Starting iterations...\n",
            "Run 2, iteration: 1/100, moves: 18, cost: 1365.0\n",
            "Init: initializing centroids\n",
            "Init: initializing clusters\n",
            "Starting iterations...\n",
            "Run 3, iteration: 1/100, moves: 100, cost: 1353.0\n",
            "Init: initializing centroids\n",
            "Init: initializing clusters\n",
            "Starting iterations...\n",
            "Run 4, iteration: 1/100, moves: 467, cost: 1419.0\n",
            "Run 4, iteration: 2/100, moves: 266, cost: 1419.0\n",
            "Init: initializing centroids\n",
            "Init: initializing clusters\n",
            "Starting iterations...\n",
            "Run 5, iteration: 1/100, moves: 34, cost: 1693.0\n",
            "Best run was number 3\n",
            "Init: initializing centroids\n",
            "Init: initializing clusters\n",
            "Starting iterations...\n",
            "Run 1, iteration: 1/100, moves: 111, cost: 1339.0\n",
            "Init: initializing centroids\n",
            "Init: initializing clusters\n",
            "Starting iterations...\n",
            "Run 2, iteration: 1/100, moves: 284, cost: 1368.0\n",
            "Run 2, iteration: 2/100, moves: 13, cost: 1368.0\n",
            "Init: initializing centroids\n",
            "Init: initializing clusters\n",
            "Starting iterations...\n",
            "Run 3, iteration: 1/100, moves: 331, cost: 1373.0\n",
            "Init: initializing centroids\n",
            "Init: initializing clusters\n",
            "Starting iterations...\n",
            "Run 4, iteration: 1/100, moves: 72, cost: 1605.0\n",
            "Init: initializing centroids\n",
            "Init: initializing clusters\n",
            "Starting iterations...\n",
            "Run 5, iteration: 1/100, moves: 328, cost: 1346.0\n",
            "Run 5, iteration: 2/100, moves: 27, cost: 1346.0\n",
            "Best run was number 1\n",
            "Init: initializing centroids\n",
            "Init: initializing clusters\n",
            "Starting iterations...\n",
            "Run 1, iteration: 1/100, moves: 360, cost: 1287.0\n",
            "Init: initializing centroids\n",
            "Init: initializing clusters\n",
            "Starting iterations...\n",
            "Run 2, iteration: 1/100, moves: 335, cost: 1237.0\n",
            "Run 2, iteration: 2/100, moves: 11, cost: 1237.0\n",
            "Init: initializing centroids\n",
            "Init: initializing clusters\n",
            "Starting iterations...\n",
            "Run 3, iteration: 1/100, moves: 733, cost: 1205.0\n",
            "Run 3, iteration: 2/100, moves: 0, cost: 1205.0\n",
            "Init: initializing centroids\n",
            "Init: initializing clusters\n",
            "Starting iterations...\n",
            "Run 4, iteration: 1/100, moves: 378, cost: 1298.0\n",
            "Run 4, iteration: 2/100, moves: 36, cost: 1298.0\n",
            "Init: initializing centroids\n",
            "Init: initializing clusters\n",
            "Starting iterations...\n",
            "Run 5, iteration: 1/100, moves: 0, cost: 1287.0\n",
            "Best run was number 3\n",
            "Init: initializing centroids\n",
            "Init: initializing clusters\n",
            "Starting iterations...\n",
            "Run 1, iteration: 1/100, moves: 170, cost: 1187.0\n",
            "Run 1, iteration: 2/100, moves: 12, cost: 1187.0\n",
            "Init: initializing centroids\n",
            "Init: initializing clusters\n",
            "Starting iterations...\n",
            "Run 2, iteration: 1/100, moves: 84, cost: 1284.0\n",
            "Init: initializing centroids\n",
            "Init: initializing clusters\n",
            "Starting iterations...\n",
            "Run 3, iteration: 1/100, moves: 76, cost: 1320.0\n",
            "Init: initializing centroids\n",
            "Init: initializing clusters\n",
            "Starting iterations...\n",
            "Run 4, iteration: 1/100, moves: 300, cost: 1231.0\n",
            "Run 4, iteration: 2/100, moves: 25, cost: 1231.0\n",
            "Init: initializing centroids\n",
            "Init: initializing clusters\n",
            "Starting iterations...\n",
            "Run 5, iteration: 1/100, moves: 79, cost: 1287.0\n",
            "Best run was number 1\n",
            "Init: initializing centroids\n",
            "Init: initializing clusters\n",
            "Starting iterations...\n",
            "Run 1, iteration: 1/100, moves: 375, cost: 1213.0\n",
            "Run 1, iteration: 2/100, moves: 2, cost: 1213.0\n",
            "Init: initializing centroids\n",
            "Init: initializing clusters\n",
            "Starting iterations...\n",
            "Run 2, iteration: 1/100, moves: 133, cost: 1135.0\n",
            "Run 2, iteration: 2/100, moves: 0, cost: 1135.0\n",
            "Init: initializing centroids\n",
            "Init: initializing clusters\n",
            "Starting iterations...\n",
            "Run 3, iteration: 1/100, moves: 57, cost: 1266.0\n",
            "Init: initializing centroids\n",
            "Init: initializing clusters\n",
            "Starting iterations...\n",
            "Run 4, iteration: 1/100, moves: 35, cost: 1208.0\n",
            "Init: initializing centroids\n",
            "Init: initializing clusters\n",
            "Starting iterations...\n",
            "Run 5, iteration: 1/100, moves: 99, cost: 1213.0\n",
            "Best run was number 2\n",
            "Init: initializing centroids\n",
            "Init: initializing clusters\n",
            "Starting iterations...\n",
            "Run 1, iteration: 1/100, moves: 333, cost: 1159.0\n",
            "Run 1, iteration: 2/100, moves: 1, cost: 1159.0\n",
            "Init: initializing centroids\n",
            "Init: initializing clusters\n",
            "Starting iterations...\n",
            "Run 2, iteration: 1/100, moves: 412, cost: 1143.0\n",
            "Init: initializing centroids\n",
            "Init: initializing clusters\n",
            "Starting iterations...\n",
            "Run 3, iteration: 1/100, moves: 69, cost: 1154.0\n",
            "Init: initializing centroids\n",
            "Init: initializing clusters\n",
            "Starting iterations...\n",
            "Run 4, iteration: 1/100, moves: 107, cost: 1100.0\n",
            "Init: initializing centroids\n",
            "Init: initializing clusters\n",
            "Starting iterations...\n",
            "Run 5, iteration: 1/100, moves: 148, cost: 1142.0\n",
            "Best run was number 4\n",
            "Init: initializing centroids\n",
            "Init: initializing clusters\n",
            "Starting iterations...\n",
            "Run 1, iteration: 1/100, moves: 133, cost: 1150.0\n",
            "Run 1, iteration: 2/100, moves: 10, cost: 1150.0\n",
            "Init: initializing centroids\n",
            "Init: initializing clusters\n",
            "Starting iterations...\n",
            "Run 2, iteration: 1/100, moves: 406, cost: 1082.0\n",
            "Init: initializing centroids\n",
            "Init: initializing clusters\n",
            "Starting iterations...\n",
            "Run 3, iteration: 1/100, moves: 350, cost: 1076.0\n",
            "Run 3, iteration: 2/100, moves: 3, cost: 1076.0\n",
            "Init: initializing centroids\n",
            "Init: initializing clusters\n",
            "Starting iterations...\n",
            "Run 4, iteration: 1/100, moves: 158, cost: 1077.0\n",
            "Init: initializing centroids\n",
            "Init: initializing clusters\n",
            "Starting iterations...\n",
            "Run 5, iteration: 1/100, moves: 344, cost: 1160.0\n",
            "Best run was number 3\n"
          ]
        },
        {
          "output_type": "display_data",
          "data": {
            "text/plain": [
              "<Figure size 640x480 with 1 Axes>"
            ],
            "image/png": "[encoded data removed]"
          },
          "metadata": {}
        }
      ]
    },
    {
      "cell_type": "markdown",
      "source": [
        "Finally, update the below function with the Ideal number of clusters that we calculated above and run the prediction model.\n",
        "\n",
        "\n",
        "* The `KModes()` function creates an untrained machine learning model for K-Modes clustering.\n",
        "* The `fit_predict()` function, when invoked on an untrained model, takes a numpy array containing data as its input, trains the machine learning model, and classifies each data point as part of a cluster.\n",
        "* To end we will add a new column to our original filtered data frame that says what cluster each bathroom belongs to\n"
      ],
      "metadata": {
        "id": "srUCUbORpQmF"
      }
    },
    {
      "cell_type": "code",
      "source": [
        "number_of_clusters = 3 #UPDATE ME"
      ],
      "metadata": {
        "id": "keGhp9IF5U6K"
      },
      "execution_count": null,
      "outputs": []
    },
    {
      "cell_type": "code",
      "source": [
        "kmode = KModes(n_clusters=number_of_clusters, init = \"random\", n_init = 5, verbose=1)\n",
        "clusters = kmode.fit_predict(data)\n"
      ],
      "metadata": {
        "id": "nYmEDXxKTZIy"
      },
      "execution_count": null,
      "outputs": []
    },
    {
      "cell_type": "code",
      "source": [
        "filtered['cluster']=pd.Series(clusters)\n",
        "filtered"
      ],
      "metadata": {
        "id": "Q5bjyq9PThO3"
      },
      "execution_count": null,
      "outputs": []
    },
    {
      "cell_type": "markdown",
      "source": [
        "**You did it!** Now you can go back and try it with another set of columns or you can explore the clusters by changing the filter below.\n",
        "\n",
        "\n",
        "**In your groups talk about what separates each cluster, and if these relationships tell you anything interesting about the public restrooms in the dataset.**"
      ],
      "metadata": {
        "id": "-vZ_1fM6soDH"
      }
    },
    {
      "cell_type": "code",
      "source": [
        "filtered[filtered.cluster == 0]"
      ],
      "metadata": {
        "id": "ipBjmI2YWJW2"
      },
      "execution_count": null,
      "outputs": []
    }
  ]
}